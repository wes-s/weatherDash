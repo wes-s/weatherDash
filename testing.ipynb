{
 "cells": [
  {
   "cell_type": "code",
   "execution_count": 4,
   "id": "627f53d6",
   "metadata": {},
   "outputs": [],
   "source": [
    "# from flask import Flask, request, render_template, make_response\n",
    "# from flask_restful import Api, Resource\n",
    "# from flask import send_file\n",
    "# from flask import send_from_directory\n",
    "# from pyowm import OWM\n",
    "from weatherbit.api import Api as wApi\n",
    "from datetime import datetime, timedelta\n",
    "import pytz\n",
    "import pandas as pd\n",
    "from bokeh.palettes import plasma\n",
    "from bokeh.plotting import figure, show\n",
    "from bokeh.embed import components\n",
    "from bokeh.models import DatetimeTickFormatter\n",
    "import math\n",
    "import os"
   ]
  }
 ],
 "metadata": {
  "kernelspec": {
   "display_name": "Python 3",
   "language": "python",
   "name": "python3"
  },
  "language_info": {
   "codemirror_mode": {
    "name": "ipython",
    "version": 3
   },
   "file_extension": ".py",
   "mimetype": "text/x-python",
   "name": "python",
   "nbconvert_exporter": "python",
   "pygments_lexer": "ipython3",
   "version": "3.8.8"
  }
 },
 "nbformat": 4,
 "nbformat_minor": 5
}
